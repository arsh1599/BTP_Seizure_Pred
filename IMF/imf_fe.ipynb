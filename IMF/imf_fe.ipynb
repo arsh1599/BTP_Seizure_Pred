{
 "cells": [
  {
   "cell_type": "code",
   "execution_count": 15,
   "metadata": {},
   "outputs": [],
   "source": [
    "import pandas as pd\n",
    "from scipy.stats import skew, kurtosis\n",
    "import csv"
   ]
  },
  {
   "cell_type": "code",
   "execution_count": 34,
   "metadata": {},
   "outputs": [],
   "source": [
    "def imf_mean(imf): \n",
    "    mean = imf.mean()\n",
    "    return mean[1]"
   ]
  },
  {
   "cell_type": "code",
   "execution_count": 35,
   "metadata": {},
   "outputs": [],
   "source": [
    "def imf_std(imf):\n",
    "    std = imf.std()\n",
    "    return std[1]"
   ]
  },
  {
   "cell_type": "code",
   "execution_count": 36,
   "metadata": {},
   "outputs": [],
   "source": [
    "def imf_kurtosis(imf):\n",
    "    k = kurtosis(imf.iloc[:, [1]])\n",
    "    return (k[0])"
   ]
  },
  {
   "cell_type": "code",
   "execution_count": 37,
   "metadata": {},
   "outputs": [],
   "source": [
    "def imf_skew(imf):\n",
    "    s = skew(imf.iloc[:, [1]])\n",
    "    return (s[0])"
   ]
  },
  {
   "cell_type": "code",
   "execution_count": 38,
   "metadata": {},
   "outputs": [],
   "source": [
    "def add_row(imf, start, end, duration, seizure):\n",
    "    row_to_add = []\n",
    "    i = imf[start:end]\n",
    "    \n",
    "    i_mean = imf_mean(i)\n",
    "    i_std = imf_std(i) \n",
    "    i_kurtosis = imf_kurtosis(i) \n",
    "    i_skew = imf_skew(i) \n",
    "    \n",
    "    row_to_add.append(i_mean)\n",
    "    row_to_add.append(i_std)\n",
    "    row_to_add.append(i_kurtosis)\n",
    "    row_to_add.append(i_skew)\n",
    "    \n",
    "    # Label: 1 = seizure, 0 = non-seizure. Change before running.\n",
    "    row_to_add.append(seizure)\n",
    "\n",
    "    return row_to_add"
   ]
  },
  {
   "cell_type": "code",
   "execution_count": 45,
   "metadata": {},
   "outputs": [],
   "source": [
    "def write_to_file(file, start, end, temp, imf, seizure):\n",
    "    duration = 10*256\n",
    "    res = pd.DataFrame()\n",
    "\n",
    "    # first iteration run in 'w' mode, all subsequent iteration run in 'a' mode\n",
    "    with open(file, 'a') as file:\n",
    "        writer = csv.writer(file)\n",
    "        while temp < end:\n",
    "            row = add_row(imf, temp, temp + duration, duration, seizure)\n",
    "            res = res.append(pd.Series(row), ignore_index=True)\n",
    "            writer.writerow(row)\n",
    "            temp += duration\n",
    "\n",
    "    print (res)"
   ]
  },
  {
   "cell_type": "code",
   "execution_count": 40,
   "metadata": {},
   "outputs": [],
   "source": [
    "#patient 1\n",
    "chb01 = ['chb01_03', 'chb01_04', 'chb01_15', 'chb01_16', 'chb01_18', 'chb01_21','chb01_26']\n",
    "#patient 8\n",
    "chb08 = ['chb08_02', 'chb08_05', 'chb08_11', 'chb08_13', 'chb08_21']\n",
    "#patient 11 //done\n",
    "chb11 = ['chb11_82', 'chb11_92', 'chb11_99']\n",
    "#patient 14\n",
    "chb14 = ['chb14_03', 'chb14_04', 'chb14_06', 'chb14_11', 'chb14_17', 'chb14_18', 'chb14_27']\n",
    "#patient 14\n",
    "chb20 = ['chb20_12', 'chb20_13', 'chb20_14', 'chb20_15', 'chb20_16', 'chb20_68']   "
   ]
  },
  {
   "cell_type": "code",
   "execution_count": 59,
   "metadata": {},
   "outputs": [
    {
     "data": {
      "text/html": [
       "<div>\n",
       "<style scoped>\n",
       "    .dataframe tbody tr th:only-of-type {\n",
       "        vertical-align: middle;\n",
       "    }\n",
       "\n",
       "    .dataframe tbody tr th {\n",
       "        vertical-align: top;\n",
       "    }\n",
       "\n",
       "    .dataframe thead th {\n",
       "        text-align: right;\n",
       "    }\n",
       "</style>\n",
       "<table border=\"1\" class=\"dataframe\">\n",
       "  <thead>\n",
       "    <tr style=\"text-align: right;\">\n",
       "      <th></th>\n",
       "      <th>S. No.</th>\n",
       "      <th>Patient</th>\n",
       "      <th>File</th>\n",
       "      <th>Start</th>\n",
       "      <th>End</th>\n",
       "      <th>Duration</th>\n",
       "    </tr>\n",
       "  </thead>\n",
       "  <tbody>\n",
       "    <tr>\n",
       "      <th>12</th>\n",
       "      <td>56</td>\n",
       "      <td>chb11</td>\n",
       "      <td>chb11_82</td>\n",
       "      <td>300</td>\n",
       "      <td>320</td>\n",
       "      <td>20</td>\n",
       "    </tr>\n",
       "    <tr>\n",
       "      <th>13</th>\n",
       "      <td>57</td>\n",
       "      <td>chb11</td>\n",
       "      <td>chb11_92</td>\n",
       "      <td>2697</td>\n",
       "      <td>2727</td>\n",
       "      <td>30</td>\n",
       "    </tr>\n",
       "    <tr>\n",
       "      <th>14</th>\n",
       "      <td>58</td>\n",
       "      <td>chb11</td>\n",
       "      <td>chb11_99</td>\n",
       "      <td>1454</td>\n",
       "      <td>2204</td>\n",
       "      <td>750</td>\n",
       "    </tr>\n",
       "  </tbody>\n",
       "</table>\n",
       "</div>"
      ],
      "text/plain": [
       "    S. No.  Patient      File  Start   End  Duration\n",
       "12       56   chb11  chb11_82    300   320        20\n",
       "13       57   chb11  chb11_92   2697  2727        30\n",
       "14       58   chb11  chb11_99   1454  2204       750"
      ]
     },
     "execution_count": 59,
     "metadata": {},
     "output_type": "execute_result"
    }
   ],
   "source": [
    "k = pd.read_csv('main_trimmed.csv')\n",
    "chb11 = k.iloc[12:15, :]\n",
    "chb11"
   ]
  },
  {
   "cell_type": "code",
   "execution_count": 60,
   "metadata": {},
   "outputs": [
    {
     "name": "stdout",
     "output_type": "stream",
     "text": [
      "12 chb11 chb11_82\n",
      "              0         1          2         3    4\n",
      "0 -3.022630e-09  0.000001  13.049274  0.146507  1.0\n",
      "1 -4.319687e-09  0.000002  58.569121 -0.048327  1.0\n",
      "13 chb11 chb11_92\n",
      "              0             1          2         3    4\n",
      "0  1.670261e-09  8.554492e-07   2.477585  0.052177  1.0\n",
      "1  7.193723e-09  1.254036e-06   6.705502  0.081010  1.0\n",
      "2 -1.278357e-09  1.870227e-06  41.778794 -0.306958  1.0\n",
      "14 chb11 chb11_99\n",
      "               0             1          2         3    4\n",
      "0  -6.702095e-10  9.882789e-07  21.861927  0.453900  1.0\n",
      "1   1.866179e-08  1.794939e-06  24.057997  0.230653  1.0\n",
      "2   2.063364e-09  2.208709e-06   8.480762  0.082124  1.0\n",
      "3  -1.623917e-08  3.064081e-06  21.109577  0.026857  1.0\n",
      "4  -9.310539e-09  4.381313e-06  45.643097  0.536828  1.0\n",
      "..           ...           ...        ...       ...  ...\n",
      "70 -1.273930e-09  4.625543e-07   6.905415  0.079185  1.0\n",
      "71  2.998184e-09  6.418206e-07  90.960276 -0.205898  1.0\n",
      "72  7.517083e-09  4.516863e-07   0.924814  0.028104  1.0\n",
      "73  2.600542e-09  4.999486e-07   7.960310 -0.051700  1.0\n",
      "74 -7.050958e-10  3.513767e-07   2.473904  0.023744  1.0\n",
      "\n",
      "[75 rows x 5 columns]\n"
     ]
    }
   ],
   "source": [
    "for index, row in chb11.iterrows():\n",
    "        print(index, row.Patient, row.File)\n",
    "        imf = pd.read_csv('IMF/chb11/{file}_imf.csv'.format(file = row.File))\n",
    "        start = temp = row.Start*256\n",
    "        end = row.End*256\n",
    "        write_to_file('{}_imf_fe.csv'.format(row.File), start, end, temp, imf, 1)"
   ]
  },
  {
   "cell_type": "code",
   "execution_count": 65,
   "metadata": {},
   "outputs": [],
   "source": [
    "f82 = pd.read_csv('chb11_82_imf_fe.csv',header=None)\n",
    "f92 = pd.read_csv('chb11_92_imf_fe.csv',header=None)\n",
    "f99 = pd.read_csv('chb11_99_imf_fe.csv',header=None)"
   ]
  },
  {
   "cell_type": "code",
   "execution_count": 71,
   "metadata": {},
   "outputs": [
    {
     "data": {
      "text/plain": [
       "(175, 5)"
      ]
     },
     "execution_count": 71,
     "metadata": {},
     "output_type": "execute_result"
    }
   ],
   "source": [
    "f82"
   ]
  },
  {
   "cell_type": "code",
   "execution_count": 72,
   "metadata": {},
   "outputs": [],
   "source": [
    "c = [f82, f92, f99]\n",
    "j = pd.concat(c, sort=False)\n",
    "j.columns = ['IMF_Mean', 'IMF_Std','IMF_Kurtosis','IMF_Skew', 'Label']\n",
    "j.to_csv('chb11_imf_features.csv')"
   ]
  },
  {
   "cell_type": "code",
   "execution_count": null,
   "metadata": {},
   "outputs": [],
   "source": []
  }
 ],
 "metadata": {
  "kernelspec": {
   "display_name": "Python 3",
   "language": "python",
   "name": "python3"
  },
  "language_info": {
   "codemirror_mode": {
    "name": "ipython",
    "version": 3
   },
   "file_extension": ".py",
   "mimetype": "text/x-python",
   "name": "python",
   "nbconvert_exporter": "python",
   "pygments_lexer": "ipython3",
   "version": "3.8.3"
  }
 },
 "nbformat": 4,
 "nbformat_minor": 4
}
