{
 "cells": [
  {
   "cell_type": "code",
   "execution_count": null,
   "metadata": {},
   "outputs": [],
   "source": [
    "#  pip install EMD-signal"
   ]
  },
  {
   "cell_type": "code",
   "execution_count": null,
   "metadata": {},
   "outputs": [],
   "source": [
    "import numpy as np\n",
    "import mne\n",
    "import pandas as pd\n",
    "from PyEMD import EMD"
   ]
  },
  {
   "cell_type": "code",
   "execution_count": null,
   "metadata": {},
   "outputs": [],
   "source": [
    "def read_edf(patient, file):\n",
    "    edf = mne.io.read_raw_edf('data/{patient}/{file}.edf'.format(patient = patient, file = file))\n",
    "    header = ','.join(edf.ch_names)\n",
    "    df = pd.DataFrame(edf[:][0])\n",
    "    df = df.transpose()\n",
    "    if (patient == 'chb01' or patient == 'chb08'):\n",
    "        df.drop([22],axis=1,inplace=True)\n",
    "    else:\n",
    "        df.drop([4,9,12,17,22,27],axis=1,inplace=True)\n",
    "    return df"
   ]
  },
  {
   "cell_type": "code",
   "execution_count": null,
   "metadata": {},
   "outputs": [],
   "source": [
    "def create_surrogate(df):\n",
    "    surr = df.mean(skipna = True, axis = 1)\n",
    "    surr = surr.values\n",
    "    return surr"
   ]
  },
  {
   "cell_type": "code",
   "execution_count": null,
   "metadata": {},
   "outputs": [],
   "source": [
    "def generate_imfs(surr):\n",
    "    emd = EMD(DTYPE=np.float16, spline_kind = 'akima')\n",
    "    imfs = emd.emd(surr)\n",
    "    imfs_df = pd.DataFrame(imfs)\n",
    "    imfs_df = imfs_df.transpose()\n",
    "    return imfs_df"
   ]
  },
  {
   "cell_type": "code",
   "execution_count": null,
   "metadata": {},
   "outputs": [],
   "source": [
    "#patient 1\n",
    "chb01 = ['chb01_03', 'chb01_04', 'chb01_15', 'chb01_16', 'chb01_18', 'chb01_21','chb01_26']\n",
    "#patient 8\n",
    "chb08 = ['chb08_02', 'chb08_05', 'chb08_11', 'chb08_13', 'chb08_21']\n",
    "#patient 11 //done\n",
    "chb11 = ['chb11_82', 'chb11_92', 'chb11_99']\n",
    "#patient 14\n",
    "chb14 = ['chb14_03', 'chb14_04', 'chb14_06', 'chb14_11', 'chb14_17', 'chb14_18', 'chb14_27']\n",
    "#patient 14\n",
    "chb20 = ['chb20_12', 'chb20_13', 'chb20_14', 'chb20_15', 'chb20_16', 'chb20_68']   "
   ]
  },
  {
   "cell_type": "code",
   "execution_count": null,
   "metadata": {},
   "outputs": [],
   "source": [
    "def imf_driver(patient, file):\n",
    "    df = read_edf(patient, file)\n",
    "    surr = create_surrogate(df)\n",
    "    imfs_df = generate_imfs(surr)\n",
    "    imfs_df.to_csv('IMF/{patient}/{file}_imf.csv'.format(patient = patient, file = file))"
   ]
  },
  {
   "cell_type": "code",
   "execution_count": null,
   "metadata": {},
   "outputs": [],
   "source": [
    "for file in chb11:\n",
    "    imf_driver('chb11', file)"
   ]
  }
 ],
 "metadata": {
  "kernelspec": {
   "display_name": "Python 3",
   "language": "python",
   "name": "python3"
  },
  "language_info": {
   "codemirror_mode": {
    "name": "ipython",
    "version": 3
   },
   "file_extension": ".py",
   "mimetype": "text/x-python",
   "name": "python",
   "nbconvert_exporter": "python",
   "pygments_lexer": "ipython3",
   "version": "3.8.3"
  }
 },
 "nbformat": 4,
 "nbformat_minor": 4
}
