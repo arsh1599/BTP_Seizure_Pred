{
 "cells": [
  {
   "cell_type": "code",
   "execution_count": 1,
   "metadata": {},
   "outputs": [],
   "source": [
    "import numpy as np\n",
    "import mne\n",
    "import pandas as pd\n",
    "import sys\n",
    "\n",
    "import csv\n",
    "from scipy.stats import skew, kurtosis\n",
    "import pyeeg as p\n",
    "from numpy import nan\n",
    "import math"
   ]
  },
  {
   "cell_type": "code",
   "execution_count": 2,
   "metadata": {},
   "outputs": [],
   "source": [
    "def mean_variance(df):\n",
    "    variance_vals = np.var(df)\n",
    "    return np.mean(variance_vals)"
   ]
  },
  {
   "cell_type": "code",
   "execution_count": 3,
   "metadata": {},
   "outputs": [],
   "source": [
    "def mean_kurtosis(df):\n",
    "    kurtosis_vals = kurtosis(df)\n",
    "    return np.mean(kurtosis_vals)"
   ]
  },
  {
   "cell_type": "code",
   "execution_count": 4,
   "metadata": {},
   "outputs": [],
   "source": [
    "def mean_skewness(df):\n",
    "    skew_vals = skew(df)\n",
    "    return np.mean(skew_vals)"
   ]
  },
  {
   "cell_type": "code",
   "execution_count": 5,
   "metadata": {},
   "outputs": [],
   "source": [
    "def func_mean_hurst(df):\n",
    "    hurst_vals = []\n",
    "    for col in df.columns:\n",
    "        col = df[col].to_numpy()\n",
    "        h_val = p.hurst(col)\n",
    "        hurst_vals.append(h_val)\n",
    "    return np.mean(hurst_vals)"
   ]
  },
  {
   "cell_type": "code",
   "execution_count": 6,
   "metadata": {},
   "outputs": [],
   "source": [
    "def mean_pfd(df):\n",
    "    pfd_vals = []\n",
    "    for col in df.columns:\n",
    "        col = df[col].to_numpy()\n",
    "        pfd_val = p.pfd(col)\n",
    "        pfd_vals.append(pfd_val)\n",
    "    return np.mean(pfd_vals)"
   ]
  },
  {
   "cell_type": "code",
   "execution_count": 7,
   "metadata": {},
   "outputs": [],
   "source": [
    "def mean_hjorth_mob_comp(df):\n",
    "    mob_vals = []\n",
    "    comp_vals = []\n",
    "    for col in df.columns:\n",
    "        col = df[col].to_numpy()\n",
    "        mob_col, comp_col = p.hjorth(col)\n",
    "        mob_vals.append(mob_col)\n",
    "        comp_vals.append(comp_col)\n",
    "    return np.mean(mob_vals), np.mean(comp_vals)"
   ]
  },
  {
   "cell_type": "code",
   "execution_count": null,
   "metadata": {},
   "outputs": [],
   "source": [
    "def add_row(df, start, end):\n",
    "    row_to_add = []\n",
    "    d = df.loc[(df['time'] >= start) & (df['time'] < end)]\n",
    "    \n",
    "    mean_var = mean_variance(d)\n",
    "    mean_k = mean_kurtosis(d)\n",
    "    mean_skew = mean_skewness(d)\n",
    "    #hurst = func_mean_hurst(d)\n",
    "    pfd = mean_pfd(d)\n",
    "    h_mob, h_comp = mean_hjorth_mob_comp(df)\n",
    "    \n",
    "    row_to_add.append(mean_var)\n",
    "    row_to_add.append(mean_k)\n",
    "    row_to_add.append(mean_skew)\n",
    "    #row_to_add.append(hurst)\n",
    "    row_to_add.append(pfd)\n",
    "    row_to_add.append(h_mob)\n",
    "    row_to_add.append(h_comp)\n",
    "    row_to_add.append(1)\n",
    "    \n",
    "    \n",
    "    return row_to_add"
   ]
  },
  {
   "cell_type": "code",
   "execution_count": null,
   "metadata": {},
   "outputs": [],
   "source": [
    "data = mne.io.read_raw_edf('chb01_04.edf', preload=True)\n",
    "df = data.to_data_frame()"
   ]
  },
  {
   "cell_type": "code",
   "execution_count": null,
   "metadata": {},
   "outputs": [],
   "source": [
    "#processes one seizure in 10s windows\n",
    "#adds rows with features extracted from these windows\n",
    "start = temp = 1467 \n",
    "duration = 10\n",
    "end = 1494 \n",
    "\n",
    "res = pd.DataFrame()\n",
    "while temp < end:\n",
    "    row = add_row(df, temp, temp + duration)\n",
    "    res=res.append(pd.Series(row),ignore_index=True)\n",
    "    temp += duration\n",
    "    \n",
    "res"
   ]
  }
 ],
 "metadata": {
  "kernelspec": {
   "display_name": "Python 3",
   "language": "python",
   "name": "python3"
  },
  "language_info": {
   "codemirror_mode": {
    "name": "ipython",
    "version": 3
   },
   "file_extension": ".py",
   "mimetype": "text/x-python",
   "name": "python",
   "nbconvert_exporter": "python",
   "pygments_lexer": "ipython3",
   "version": "3.8.3"
  }
 },
 "nbformat": 4,
 "nbformat_minor": 4
}
